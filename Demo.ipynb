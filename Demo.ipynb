{
 "cells": [
  {
   "cell_type": "code",
   "execution_count": 278,
   "id": "992ec6c0",
   "metadata": {},
   "outputs": [],
   "source": [
    "import pandas as pd\n",
    "import numpy as np\n",
    "from sklearn.model_selection import train_test_split\n",
    "from sklearn.preprocessing import StandardScaler\n",
    "from sklearn.metrics import mean_absolute_error, mean_squared_error, r2_score\n",
    "import seaborn as sns\n",
    "import matplotlib.pyplot as plt"
   ]
  },
  {
   "cell_type": "code",
   "execution_count": 279,
   "id": "39b43901",
   "metadata": {},
   "outputs": [],
   "source": [
    "# Định nghĩa lớp CustomRidge\n",
    "class CustomRidge:\n",
    "    def __init__(self, alpha=1.0):\n",
    "        self.alpha = alpha\n",
    "        self.weights = None\n",
    "        self.bias = None\n",
    "\n",
    "    def fit(self, X, y):\n",
    "        X_with_bias = np.c_[np.ones(X.shape[0]), X]\n",
    "        n_features = X_with_bias.shape[1]\n",
    "        I = np.identity(n_features)\n",
    "        I[0, 0] = 0\n",
    "        XTX = X_with_bias.T @ X_with_bias\n",
    "        XTX_reg = XTX + self.alpha * I\n",
    "        XTy = X_with_bias.T @ y\n",
    "        self.weights = np.linalg.solve(XTX_reg, XTy)\n",
    "        self.bias = self.weights[0]\n",
    "        self.weights = self.weights[1:]\n",
    "\n",
    "    def predict(self, X):\n",
    "        return X @ self.weights + self.bias"
   ]
  },
  {
   "cell_type": "code",
   "execution_count": 280,
   "id": "4b61dd16",
   "metadata": {},
   "outputs": [],
   "source": [
    "# 1. Đọc và kiểm tra dữ liệu\n",
    "df = pd.read_csv('df1.csv') # df1 > df2"
   ]
  },
  {
   "cell_type": "code",
   "execution_count": 281,
   "id": "967e28b9",
   "metadata": {},
   "outputs": [
    {
     "name": "stdout",
     "output_type": "stream",
     "text": [
      "Thông tin dữ liệu:\n",
      "<class 'pandas.core.frame.DataFrame'>\n",
      "RangeIndex: 12051 entries, 0 to 12050\n",
      "Data columns (total 5 columns):\n",
      " #   Column         Non-Null Count  Dtype  \n",
      "---  ------         --------------  -----  \n",
      " 0   Location       12051 non-null  object \n",
      " 1   Price          12051 non-null  int64  \n",
      " 2   Type of House  12051 non-null  object \n",
      " 3   Land Area      12051 non-null  float64\n",
      " 4   Bedrooms       12051 non-null  float64\n",
      "dtypes: float64(2), int64(1), object(2)\n",
      "memory usage: 470.9+ KB\n",
      "None\n",
      "\n",
      "Mô tả dữ liệu:\n",
      "              Price     Land Area      Bedrooms\n",
      "count  1.205100e+04  12051.000000  12051.000000\n",
      "mean   6.858117e+09     68.554726      5.747573\n",
      "std    5.245329e+09     38.604128      8.049289\n",
      "min    5.200000e+08     10.000000      1.000000\n",
      "25%    3.390000e+09     42.000000      3.000000\n",
      "50%    7.500000e+09     64.000000      4.000000\n",
      "75%    8.000000e+09     73.000000      4.000000\n",
      "max    2.200000e+11    840.000000     38.000000\n",
      "\n",
      "Kiểm tra giá trị thiếu:\n",
      "Location         0\n",
      "Price            0\n",
      "Type of House    0\n",
      "Land Area        0\n",
      "Bedrooms         0\n",
      "dtype: int64\n"
     ]
    }
   ],
   "source": [
    "# In thông tin cơ bản về dữ liệu\n",
    "print(\"Thông tin dữ liệu:\")\n",
    "print(df.info())\n",
    "print(\"\\nMô tả dữ liệu:\")\n",
    "print(df.describe())\n",
    "print(\"\\nKiểm tra giá trị thiếu:\")\n",
    "print(df.isnull().sum())"
   ]
  },
  {
   "cell_type": "code",
   "execution_count": 282,
   "id": "8f6fc019",
   "metadata": {},
   "outputs": [],
   "source": [
    "# 2. Xử lý giá trị thiếu\n",
    "numeric_cols = df.select_dtypes(include=['float64', 'int64']).columns\n",
    "df[numeric_cols] = df[numeric_cols].fillna(df[numeric_cols].mean())"
   ]
  },
  {
   "cell_type": "code",
   "execution_count": 283,
   "id": "6f2a739e",
   "metadata": {},
   "outputs": [
    {
     "name": "stdout",
     "output_type": "stream",
     "text": [
      "Số mẫu sau khi xử lý ngoại lai và giới hạn: 10948\n"
     ]
    }
   ],
   "source": [
    "# 3. Xử lý ngoại lai và giới hạn giá trị bất thường\n",
    "for col in ['Price', 'Bedrooms', 'Land Area']:\n",
    "    Q1 = df[col].quantile(0.25)\n",
    "    Q3 = df[col].quantile(0.75)\n",
    "    IQR = Q3 - Q1\n",
    "    df = df[~((df[col] < (Q1 - 1.5 * IQR)) | (df[col] > (Q3 + 1.5 * IQR)))]\n",
    "# Giới hạn Bedrooms <= 10 và Land Area <= 200\n",
    "df = df[df['Bedrooms'] <= 10]\n",
    "df = df[df['Land Area'] <= 200]\n",
    "print(f\"Số mẫu sau khi xử lý ngoại lai và giới hạn: {len(df)}\")"
   ]
  },
  {
   "cell_type": "code",
   "execution_count": 284,
   "id": "e7a9b3b1",
   "metadata": {},
   "outputs": [],
   "source": [
    "# 4. Chuyển đổi biến mục tiêu (Price) sang log scale\n",
    "df['Price'] = np.log1p(df['Price'])"
   ]
  },
  {
   "cell_type": "code",
   "execution_count": 285,
   "id": "4270711a",
   "metadata": {},
   "outputs": [],
   "source": [
    "# 5. Xử lý biến dạng chuỗi: Location, Type of House\n",
    "df = pd.get_dummies(df, columns=['Location', 'Type of House'], drop_first=True)"
   ]
  },
  {
   "cell_type": "code",
   "execution_count": 286,
   "id": "480caf41",
   "metadata": {},
   "outputs": [],
   "source": [
    "# 6. Xác định đặc trưng và biến mục tiêu\n",
    "X = df.drop('Price', axis=1).to_numpy()\n",
    "y = df['Price'].to_numpy()"
   ]
  },
  {
   "cell_type": "code",
   "execution_count": 287,
   "id": "5c43a48d",
   "metadata": {},
   "outputs": [
    {
     "name": "stdout",
     "output_type": "stream",
     "text": [
      "Số đặc trưng sau mã hóa one-hot: 173\n"
     ]
    }
   ],
   "source": [
    "# 7. Chuẩn hóa đặc trưng\n",
    "scaler = StandardScaler()\n",
    "X_scaled = scaler.fit_transform(X)\n",
    "print(f\"Số đặc trưng sau mã hóa one-hot: {X_scaled.shape[1]}\")"
   ]
  },
  {
   "cell_type": "code",
   "execution_count": 288,
   "id": "c3c5598d",
   "metadata": {},
   "outputs": [],
   "source": [
    "# 8. Chia dữ liệu thành train/test\n",
    "X_train, X_test, y_train, y_test = train_test_split(X_scaled, y, test_size=0.2, random_state=42)"
   ]
  },
  {
   "cell_type": "code",
   "execution_count": 289,
   "id": "87eb5071",
   "metadata": {},
   "outputs": [
    {
     "name": "stdout",
     "output_type": "stream",
     "text": [
      "\n",
      "Tinh chỉnh alpha trên tập validation:\n",
      "alpha=0.1, R² trên validation=0.9111\n",
      "alpha=1.0, R² trên validation=0.9317\n",
      "alpha=10.0, R² trên validation=0.9367\n",
      "Giá trị alpha tối ưu: 10.0\n"
     ]
    }
   ],
   "source": [
    "# 9. Tinh chỉnh alpha trên tập validation\n",
    "print(\"\\nTinh chỉnh alpha trên tập validation:\")\n",
    "X_train_sub, X_val, y_train_sub, y_val = train_test_split(X_train, y_train, test_size=0.2, random_state=42)\n",
    "best_alpha = 1.0\n",
    "best_r2 = -float('inf')\n",
    "for alpha in [0.1, 1.0, 10.0]:\n",
    "    ridge = CustomRidge(alpha=alpha)\n",
    "    ridge.fit(X_train_sub, y_train_sub)\n",
    "    y_pred_val = ridge.predict(X_val)\n",
    "    r2_val = r2_score(y_val, y_pred_val)\n",
    "    print(f\"alpha={alpha}, R² trên validation={r2_val:.4f}\")\n",
    "    if r2_val > best_r2:\n",
    "        best_r2 = r2_val\n",
    "        best_alpha = alpha\n",
    "print(f\"Giá trị alpha tối ưu: {best_alpha}\")"
   ]
  },
  {
   "cell_type": "code",
   "execution_count": 290,
   "id": "f27f3ac1",
   "metadata": {},
   "outputs": [
    {
     "name": "stdout",
     "output_type": "stream",
     "text": [
      "\n",
      "Tiến hành đánh giá mô hình Ridge Regression\n"
     ]
    }
   ],
   "source": [
    "# 10. Huấn luyện và đánh giá mô hình cuối cùng\n",
    "print(\"\\nTiến hành đánh giá mô hình Ridge Regression\")\n",
    "ridge_custom = CustomRidge(alpha=best_alpha)\n",
    "ridge_custom.fit(X_train, y_train)\n",
    "y_pred_custom = ridge_custom.predict(X_test)"
   ]
  },
  {
   "cell_type": "code",
   "execution_count": 291,
   "id": "9a2c371b",
   "metadata": {},
   "outputs": [
    {
     "name": "stdout",
     "output_type": "stream",
     "text": [
      "R² trên tập train: 0.9788\n"
     ]
    }
   ],
   "source": [
    "# Kiểm tra overfitting\n",
    "y_pred_train = ridge_custom.predict(X_train)\n",
    "r2_train = r2_score(y_train, y_pred_train)\n",
    "print(f\"R² trên tập train: {r2_train:.4f}\")"
   ]
  },
  {
   "cell_type": "code",
   "execution_count": 292,
   "id": "e6ecf8c3",
   "metadata": {},
   "outputs": [
    {
     "name": "stdout",
     "output_type": "stream",
     "text": [
      "Mean Absolute Error (MAE): 0.0250\n",
      "Root Mean Squared Error (RMSE): 0.1426\n",
      "R² Score trên tập test: 0.9385\n"
     ]
    }
   ],
   "source": [
    "# Tính toán các chỉ số đánh giá trên giá trị log-transformed\n",
    "mae_custom = mean_absolute_error(y_test, y_pred_custom)\n",
    "rmse_custom = np.sqrt(mean_squared_error(y_test, y_pred_custom))\n",
    "r2_custom = r2_score(y_test, y_pred_custom)\n",
    "\n",
    "print(f\"Mean Absolute Error (MAE): {mae_custom:.4f}\")\n",
    "print(f\"Root Mean Squared Error (RMSE): {rmse_custom:.4f}\")\n",
    "print(f\"R² Score trên tập test: {r2_custom:.4f}\")"
   ]
  },
  {
   "cell_type": "code",
   "execution_count": 293,
   "id": "fb786637",
   "metadata": {},
   "outputs": [
    {
     "name": "stdout",
     "output_type": "stream",
     "text": [
      "\n",
      "Kết quả trên giá trị gốc (không log):\n",
      "Mean Absolute Error (MAE): 121,003,655\n",
      "Root Mean Squared Error (RMSE): 622,265,996\n",
      "R² Score: 0.9438\n"
     ]
    }
   ],
   "source": [
    "# 11. Chuyển đổi ngược log để tính toán giá trị thực\n",
    "y_test_real = np.expm1(y_test)\n",
    "y_pred_real = np.expm1(y_pred_custom)\n",
    "\n",
    "mae_real = int(mean_absolute_error(y_test_real, y_pred_real) + 0.5)\n",
    "rmse_real = int(np.sqrt(mean_squared_error(y_test_real, y_pred_real)) + 0.5)\n",
    "r2_real = r2_score(y_test_real, y_pred_real)\n",
    "\n",
    "print(\"\\nKết quả trên giá trị gốc (không log):\")\n",
    "print(f\"Mean Absolute Error (MAE): {mae_real:,}\")\n",
    "print(f\"Root Mean Squared Error (RMSE): {rmse_real:,}\")\n",
    "print(f\"R² Score: {r2_real:.4f}\")"
   ]
  },
  {
   "cell_type": "code",
   "execution_count": 294,
   "id": "79f6aef4",
   "metadata": {},
   "outputs": [],
   "source": [
    "# 12. Vẽ biểu đồ phân phối Price và giá thực tế vs dự đoán\n",
    "plt.figure(figsize=(13, 7))\n",
    "sns.histplot(df['Price'], kde=True)\n",
    "plt.title('Phân phối của Price (sau log-transform)')\n",
    "plt.savefig('price_distribution.png')\n",
    "# plt.show()\n",
    "plt.close()"
   ]
  },
  {
   "cell_type": "code",
   "execution_count": 295,
   "id": "024e2524",
   "metadata": {},
   "outputs": [],
   "source": [
    "plt.figure(figsize=(13, 7))\n",
    "plt.scatter(y_test_real, y_pred_real, alpha=0.5)\n",
    "plt.plot([y_test_real.min(), y_test_real.max()], [y_test_real.min(), y_test_real.max()], 'r--')\n",
    "plt.xlabel('Giá thực tế (VND)')\n",
    "plt.ylabel('Giá dự đoán (VND)')\n",
    "plt.title('Giá thực tế vs Giá dự đoán')\n",
    "plt.savefig('prediction_scatter.png')\n",
    "# plt.show()\n",
    "plt.close()"
   ]
  }
 ],
 "metadata": {
  "kernelspec": {
   "display_name": "bandau",
   "language": "python",
   "name": "python3"
  },
  "language_info": {
   "codemirror_mode": {
    "name": "ipython",
    "version": 3
   },
   "file_extension": ".py",
   "mimetype": "text/x-python",
   "name": "python",
   "nbconvert_exporter": "python",
   "pygments_lexer": "ipython3",
   "version": "3.10.14"
  }
 },
 "nbformat": 4,
 "nbformat_minor": 5
}
